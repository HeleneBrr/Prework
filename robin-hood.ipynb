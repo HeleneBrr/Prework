{
 "cells": [
  {
   "cell_type": "markdown",
   "metadata": {},
   "source": [
    "# Robin Hood:\n",
    "We are in a competition to win the archery contest in Sherwood. With our bow and arrows we shoot on a target and try to hit as close as possible to the center.\n",
    "\n",
    "The center of the target is represented by the values (0, 0) on the coordinate axes.\n",
    "\n",
    "![](images/arrows.jpg)\n",
    "\n",
    "## Goals:\n",
    "* data structures: lists, sets, tuples\n",
    "* logical operators: if-elif-else\n",
    "* loop: while/for\n",
    "* minimum (optional sorting)\n",
    "\n",
    "## Description:\n",
    "In the 2-dimensional space, a point can be defined by a pair of values that correspond to the horizontal coordinate (x) and the vertical coordinate (y). The space can be divided into 4 zones (quadrants): Q1, Q2, Q3, Q4. Whose single point of union is the point (0, 0).\n",
    "\n",
    "If a point is in Q1 both its x coordinate and the y are positive. I leave a link to wikipedia to familiarize yourself with these quadrants.\n",
    "\n",
    "https://en.wikipedia.org/wiki/Cartesian_coordinate_system\n",
    "\n",
    "https://en.wikipedia.org/wiki/Euclidean_distance\n",
    "\n",
    "## Shots\n",
    "```\n",
    "points = [(4, 5), (-0, 2), (4, 7), (1, -3), (3, -2), (4, 5),\n",
    "          (3, 2), (5, 7), (-5, 7), (2, 2), (-4, 5), (0, -2),\n",
    "          (-4, 7), (-1, 3), (-3, 2), (-4, -5), (-3, 2),\n",
    "          (5, 7), (5, 7), (2, 2), (9, 9), (-8, -9)]\n",
    "```\n",
    "\n",
    "## Tasks\n",
    "1. Robin Hood is famous for hitting an arrow with another arrow. Did you get it?\n",
    "2. Calculate how many arrows have fallen in each quadrant.\n",
    "3. Find the point closest to the center. Calculate its distance to the center. \n",
    "4. If the target has a radius of 9, calculate the number of arrows that must be picked up in the forest."
   ]
  },
  {
   "cell_type": "code",
   "execution_count": 3,
   "metadata": {},
   "outputs": [],
   "source": [
    "# Variables\n",
    "\n",
    "points = [(4, 5), (-0, 2), (4, 7), (1, -3), (3, -2), (4, 5),\n",
    "          (3, 2), (5, 7), (-5, 7), (2, 2), (-4, 5), (0, -2),\n",
    "          (-4, 7), (-1, 3), (-3, 2), (-4, -5), (-3, 2),\n",
    "          (5, 7), (5, 7), (2, 2), (9, 9), (-8, -9)]"
   ]
  },
  {
   "cell_type": "code",
   "execution_count": 4,
   "metadata": {},
   "outputs": [
    {
     "ename": "SyntaxError",
     "evalue": "invalid syntax (<ipython-input-4-e7a35573973b>, line 3)",
     "output_type": "error",
     "traceback": [
      "\u001b[0;36m  File \u001b[0;32m\"<ipython-input-4-e7a35573973b>\"\u001b[0;36m, line \u001b[0;32m3\u001b[0m\n\u001b[0;31m    ''Does it mean that if he hits two times the same pair, the first arrow is pushed by the first one? If it is the case we create points_bis which deduplicated the points two or three times in the points list''\u001b[0m\n\u001b[0m         ^\u001b[0m\n\u001b[0;31mSyntaxError\u001b[0m\u001b[0;31m:\u001b[0m invalid syntax\n"
     ]
    }
   ],
   "source": [
    "# 1. Robin Hood is famous for hitting an arrow with another arrow. Did you get it?\n",
    "\n",
    "''Does it mean that if he hits two times the same pair, the first arrow is pushed by the first one? If it is the case we create points_bis which deduplicated the points two or three times in the points list''"
   ]
  },
  {
   "cell_type": "code",
   "execution_count": 12,
   "metadata": {},
   "outputs": [
    {
     "name": "stdout",
     "output_type": "stream",
     "text": [
      "There are 11 arrows in Q1\n",
      "There are 3 arrows in Q2\n",
      "There are 2 arrows in Q3\n",
      "There are 6 arrows in Q4\n",
      "With this hypothesis, there are 18 arrows in Q1\n",
      "With this hypothesis, there are 6 arrows in Q2\n",
      "With this hypothesis, there are 4 arrows in Q3\n",
      "With this hypothesis, there are 11 arrows in Q4\n"
     ]
    }
   ],
   "source": [
    "# 2. Calculate how many arrows have fallen in each quadrant.\n",
    "\n",
    "Q1, Q2, Q3, Q4 = 0, 0, 0, 0\n",
    "\n",
    "# considering that if points are on x axes (x =0) or on y axes (y=0), the point is in both quadrant.\n",
    "\n",
    "for (x, y) in points :\n",
    "    if x >= 0 and y >= 0 :\n",
    "        Q1 += 1\n",
    "    elif x >= 0 and y <= 0:\n",
    "        Q2 += 1\n",
    "    elif x <= 0 and y <= 0:\n",
    "        Q3 += 1\n",
    "    elif x <= 0 and y >= 0:\n",
    "        Q4 += 1\n",
    "print('There are %s arrows in Q1' %Q1)\n",
    "print('There are %s arrows in Q2' %Q2)\n",
    "print('There are %s arrows in Q3' %Q3)\n",
    "print('There are %s arrows in Q4' %Q4)\n",
    "\n",
    "# we drop the duplicate in the points list because the second arrows in the same point hits the first one\n",
    "points_bis = list(set(points))\n",
    "\n",
    "for (x, y) in points_bis :\n",
    "    if x >= 0 and y >= 0 :\n",
    "        Q1 += 1\n",
    "    elif x >= 0 and y <= 0:\n",
    "        Q2 += 1\n",
    "    elif x <= 0 and y <= 0:\n",
    "        Q3 += 1\n",
    "    elif x <= 0 and y >= 0:\n",
    "        Q4 += 1\n",
    "print('With this hypothesis, there are %s arrows in Q1' %Q1)\n",
    "print('With this hypothesis, there are %s arrows in Q2' %Q2)\n",
    "print('With this hypothesis, there are %s arrows in Q3' %Q3)\n",
    "print('With this hypothesis, there are %s arrows in Q4' %Q4)"
   ]
  },
  {
   "cell_type": "code",
   "execution_count": 17,
   "metadata": {},
   "outputs": [
    {
     "name": "stdout",
     "output_type": "stream",
     "text": [
      "The points closest to the center is (0, 2) and its distance to the center is 2.00\n"
     ]
    }
   ],
   "source": [
    "# 3. Find the point closest to the center. Calculate its distance to the center\n",
    "# Defining a function that calculates the distance to the center can help.\n",
    "\n",
    "from math import *\n",
    "local_min = sqrt((points[0][0])**2+(points[0][1])**2)\n",
    "\n",
    "for (x, y) in points :\n",
    "    d = sqrt(x**2+y**2)\n",
    "    if d < local_min :\n",
    "        local_min = d\n",
    "        point = (x, y)\n",
    "        \n",
    "print('The points closest to the center is', point, 'and its distance to the center is %.2f' % local_min)"
   ]
  },
  {
   "cell_type": "code",
   "execution_count": 18,
   "metadata": {},
   "outputs": [
    {
     "name": "stdout",
     "output_type": "stream",
     "text": [
      "20\n"
     ]
    }
   ],
   "source": [
    "# 4. If the target has a radius of 9, calculate the number of arrows that \n",
    "# must be picked up in the forest.\n",
    "count = 0\n",
    "for (x, y) in points :\n",
    "    d = sqrt(x**2+y**2)\n",
    "    if d <= 9 :\n",
    "        count += 1\n",
    "print(count)\n"
   ]
  },
  {
   "cell_type": "code",
   "execution_count": null,
   "metadata": {},
   "outputs": [],
   "source": []
  },
  {
   "cell_type": "code",
   "execution_count": null,
   "metadata": {},
   "outputs": [],
   "source": []
  }
 ],
 "metadata": {
  "kernelspec": {
   "display_name": "Python 3",
   "language": "python",
   "name": "python3"
  },
  "language_info": {
   "codemirror_mode": {
    "name": "ipython",
    "version": 3
   },
   "file_extension": ".py",
   "mimetype": "text/x-python",
   "name": "python",
   "nbconvert_exporter": "python",
   "pygments_lexer": "ipython3",
   "version": "3.7.3"
  }
 },
 "nbformat": 4,
 "nbformat_minor": 2
}
